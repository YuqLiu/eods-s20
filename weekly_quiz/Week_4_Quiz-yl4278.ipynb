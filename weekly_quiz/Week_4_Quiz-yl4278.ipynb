{
 "cells": [
  {
   "cell_type": "markdown",
   "metadata": {},
   "source": [
    "# Week 4 Quiz\n",
    "\n",
    "## [Yuqiao Liu] - [yl4278]\n",
    "\n",
    "### Due Sunday Feb 23 9:00am"
   ]
  },
  {
   "cell_type": "code",
   "execution_count": 1,
   "metadata": {},
   "outputs": [],
   "source": [
    "import pandas as pd\n",
    "import numpy as np\n",
    "import seaborn as sns\n",
    "import matplotlib.pyplot as plt\n",
    "\n",
    "%matplotlib inline"
   ]
  },
  {
   "cell_type": "markdown",
   "metadata": {},
   "source": [
    "We're going to calculate the 95% confidence interval for the mean value of 'magnesium' from our wine dataset."
   ]
  },
  {
   "cell_type": "code",
   "execution_count": 2,
   "metadata": {},
   "outputs": [],
   "source": [
    "# Read in ../data/wine_dataset.csv as df\n",
    "df = pd.read_csv('../data/wine_dataset.csv')\n"
   ]
  },
  {
   "cell_type": "code",
   "execution_count": 3,
   "metadata": {},
   "outputs": [
    {
     "data": {
      "text/plain": [
       "<matplotlib.axes._subplots.AxesSubplot at 0x244d0132d08>"
      ]
     },
     "execution_count": 3,
     "metadata": {},
     "output_type": "execute_result"
    },
    {
     "data": {
      "image/png": "[encoded data removed]",
      "text/plain": [
       "<Figure size 432x288 with 1 Axes>"
      ]
     },
     "metadata": {
      "needs_background": "light"
     },
     "output_type": "display_data"
    }
   ],
   "source": [
    "# Generate a distribution plot of the magnesium column.\n",
    "sns.distplot(df.magnesium)"
   ]
  },
  {
   "cell_type": "code",
   "execution_count": 4,
   "metadata": {},
   "outputs": [
    {
     "name": "stdout",
     "output_type": "stream",
     "text": [
      "observed mean: 99.74\n"
     ]
    }
   ],
   "source": [
    "# Assign the mean value of magnesium to variable observed_mean\n",
    "observed_mean = df.magnesium.mean()\n",
    "\n",
    "# Print the observed mean to the hundredths place\n",
    "print(f'observed mean: {observed_mean:.02f}')"
   ]
  },
  {
   "cell_type": "code",
   "execution_count": 5,
   "metadata": {},
   "outputs": [
    {
     "name": "stdout",
     "output_type": "stream",
     "text": [
      "94.0\n"
     ]
    }
   ],
   "source": [
    "# generate a bootstrap sample (with the same number of values as the original dataset)\n",
    "#   using pandas sample (with replacement) \n",
    "#   using random_state=123\n",
    "#   assign the result to sample\n",
    "sample = df.magnesium.sample(random_state=123, replace=True)\n",
    "\n",
    "# Print the mean of the sample to the hundredths place\n",
    "# Note: if the sample mean is the same as the observed mean, \n",
    "#       check, are you sampling with replacement?\n",
    "print(sample.mean())"
   ]
  },
  {
   "cell_type": "code",
   "execution_count": 6,
   "metadata": {},
   "outputs": [
    {
     "data": {
      "text/plain": [
       "[91.0, 98.0, 105.0, 80.0, 102.0]"
      ]
     },
     "execution_count": 6,
     "metadata": {},
     "output_type": "execute_result"
    }
   ],
   "source": [
    "# Generate 1000 additional sample means using bootstrap sampling\n",
    "#   each sample should have the same length as the original dataframe\n",
    "#   store in the list sample_means\n",
    "#   do not use random_state for this step (your results may differ from the course solution slightly)\n",
    "sample_means = []\n",
    "for i in range(1000):\n",
    "    sample_mean = df.magnesium.sample(random_state=i, replace=True).mean()\n",
    "    sample_means.append(sample_mean)\n",
    "    \n",
    "# Print the first 5 values in sample_means\n",
    "sample_means[0:5]"
   ]
  },
  {
   "cell_type": "code",
   "execution_count": 7,
   "metadata": {},
   "outputs": [
    {
     "data": {
      "text/plain": [
       "<matplotlib.collections.LineCollection at 0x244d36a04c8>"
      ]
     },
     "execution_count": 7,
     "metadata": {},
     "output_type": "execute_result"
    },
    {
     "data": {
      "image/png": "[encoded data removed]",
      "text/plain": [
       "<Figure size 432x288 with 1 Axes>"
      ]
     },
     "metadata": {
      "needs_background": "light"
     },
     "output_type": "display_data"
    }
   ],
   "source": [
    "# Plot the distribution of sample means using sns.distplot\n",
    "# Store the returned axis in ax.\n",
    "ax = sns.distplot(sample_means, kde=False)\n",
    "\n",
    "# Add a vertical line located at the observed mean on the x-axis using ax.vlines()\n",
    "#     Use ax.get_ylim() to provide the y limits\n",
    "\n",
    "ax.vlines(observed_mean,*ax.get_ylim())"
   ]
  },
  {
   "cell_type": "code",
   "execution_count": 8,
   "metadata": {},
   "outputs": [
    {
     "data": {
      "text/plain": [
       "25"
      ]
     },
     "execution_count": 8,
     "metadata": {},
     "output_type": "execute_result"
    }
   ],
   "source": [
    "# To get the 95% confidence interval, we need want to retain the central 95% of our sample means.\n",
    "# To do this we need to first determine how many values must be trimmed from the ends of the sorted array.\n",
    "# For 95% CI, we want to trim 1/2 of 5% from each end.\n",
    "# Calculate 2.5% of the length of sample_means and store as trim_amount.\n",
    "trim_amount = 1000 * .05/2\n",
    "\n",
    "# We want to index into our sample means, but trim_amount is a float.\n",
    "# We must be first round this value and converted to an integer.\n",
    "# Use np.round() to round and int() to convert to int and store the result in trim_idx.\n",
    "trim_idx = int(np.round(trim_amount))\n",
    "\n",
    "# Print trim_idx\n",
    "trim_idx"
   ]
  },
  {
   "cell_type": "code",
   "execution_count": 9,
   "metadata": {},
   "outputs": [
    {
     "data": {
      "text/plain": [
       "array([ 78., 136.])"
      ]
     },
     "execution_count": 9,
     "metadata": {},
     "output_type": "execute_result"
    }
   ],
   "source": [
    "# We can now print the 95% CI for our measure by indexing into the sorted array of sample means.\n",
    "# Use np.sorted() to return a sorted numpy array \n",
    "#   then use a list of the indices we want [trim_idx,-trim_idx] to index into this sorted array.\n",
    "# Store the 95% CI values as ci\n",
    "ci = np.sort(sample_means)[[trim_idx,-trim_idx]]\n",
    "\n",
    "# Print the ci values\n",
    "ci"
   ]
  },
  {
   "cell_type": "code",
   "execution_count": 11,
   "metadata": {},
   "outputs": [
    {
     "data": {
      "text/plain": [
       "(80, 110)"
      ]
     },
     "execution_count": 11,
     "metadata": {},
     "output_type": "execute_result"
    },
    {
     "data": {
      "image/png": "[encoded data removed]",
      "text/plain": [
       "<Figure size 432x288 with 1 Axes>"
      ]
     },
     "metadata": {
      "needs_background": "light"
     },
     "output_type": "display_data"
    }
   ],
   "source": [
    "# We can confirm these values by using seaborns barplot function.\n",
    "# Call seaborn barplot on the magnesium column from the original dataframe\n",
    "#   and compare the 95% CI plotted there to the values we calculated\n",
    "# Capture the returned axis in x\n",
    "ax = sns.barplot(df.magnesium, \n",
    "            estimator=np.mean,\n",
    "            ci=95,\n",
    "            n_boot=1000\n",
    "           )\n",
    "\n",
    "# Modify the xaxis to zoom in between 80 and 110 using ax.set_xlim(80,110)\n",
    "ax.set_xlim(80, 110)"
   ]
  },
  {
   "cell_type": "code",
   "execution_count": null,
   "metadata": {},
   "outputs": [],
   "source": []
  }
 ],
 "metadata": {
  "kernelspec": {
   "display_name": "eods-20",
   "language": "python",
   "name": "eods-20"
  },
  "language_info": {
   "codemirror_mode": {
    "name": "ipython",
    "version": 3
   },
   "file_extension": ".py",
   "mimetype": "text/x-python",
   "name": "python",
   "nbconvert_exporter": "python",
   "pygments_lexer": "ipython3",
   "version": "3.7.6"
  }
 },
 "nbformat": 4,
 "nbformat_minor": 2
}
