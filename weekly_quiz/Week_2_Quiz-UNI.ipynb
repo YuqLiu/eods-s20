{
 "cells": [
  {
   "cell_type": "markdown",
   "metadata": {},
   "source": [
    "# Week 2 Quiz\n",
    "\n",
    "## Name - UNI"
   ]
  },
  {
   "cell_type": "markdown",
   "metadata": {},
   "source": [
    "### Instructions\n",
    "\n",
    "Replace all '____' below using the instructions provided.\n",
    "\n",
    "When completed, \n",
    " - make sure you've replaced Name and UNI in the first cell and filename  (eg: Week_2_Quiz-brg2130)\n",
    " - Kernel->Restart & Run All to run all cells in order \n",
    " - use Print Preview, Print-> Save to pdf \n",
    " - and post pdf to GradeScope"
   ]
  },
  {
   "cell_type": "markdown",
   "metadata": {},
   "source": [
    "---"
   ]
  },
  {
   "cell_type": "markdown",
   "metadata": {},
   "source": [
    "## 1. Lists"
   ]
  },
  {
   "cell_type": "code",
   "execution_count": 1,
   "metadata": {},
   "outputs": [
    {
     "name": "stdout",
     "output_type": "stream",
     "text": [
      "red\n"
     ]
    }
   ],
   "source": [
    "# Create a list containing the strings 'blue','red','green'\n",
    "colors = ['blue', 'red', 'green']\n",
    "\n",
    "# Assert that value at index 0 of colors is equal to 'blue'\n",
    "assert colors[0] == 'blue'\n",
    "\n",
    "# Using list indexing, print out the value of colors at index 1\n",
    "# You should see the output \"red\" without quotes\n",
    "print(colors[1])"
   ]
  },
  {
   "cell_type": "markdown",
   "metadata": {},
   "source": [
    "## 2. Dicts"
   ]
  },
  {
   "cell_type": "code",
   "execution_count": 2,
   "metadata": {},
   "outputs": [
    {
     "name": "stdout",
     "output_type": "stream",
     "text": [
      "1\n"
     ]
    }
   ],
   "source": [
    "# Create a dictionary which maps the string keys 'zero','one','two'\n",
    "#    to the int values 0,1,2\n",
    "str_to_int = {'zero':0, 'one':1, 'two':2}\n",
    "\n",
    "# Assert that key 'two' equals 2 in str_to_int\n",
    "assert str_to_int['two'] == 2\n",
    "\n",
    "# Using str_to_int, print out the value for the key 'one'\n",
    "# You should see the output 1\n",
    "print(str_to_int['one'])"
   ]
  },
  {
   "cell_type": "markdown",
   "metadata": {},
   "source": [
    "## 3. String Formatting And For Loops"
   ]
  },
  {
   "cell_type": "code",
   "execution_count": 3,
   "metadata": {},
   "outputs": [
    {
     "name": "stdout",
     "output_type": "stream",
     "text": [
      "the length of colors is 3\n",
      "the value at index zero is 0\n",
      "the value at index one is 1\n",
      "the value at index two is 2\n"
     ]
    }
   ],
   "source": [
    "# Using the len function and f\"\" string formatting, print the number of elements in colors defined above.\n",
    "print(f\"the length of colors is {len(colors)}\")\n",
    "\n",
    "# Using the enumerate function, the colors list defined above, and f\"\" string formatting\n",
    "#   for every index, value pair,\n",
    "#   print \"the value at index {index} is {value}\"\n",
    "for index, value in str_to_int.items():\n",
    "    print(f\"the value at index {index} is {value}\")"
   ]
  },
  {
   "cell_type": "markdown",
   "metadata": {},
   "source": [
    "## 4. List Comprehension"
   ]
  },
  {
   "cell_type": "code",
   "execution_count": 4,
   "metadata": {},
   "outputs": [],
   "source": [
    "# Using a list comprehension and the len() function,\n",
    "#    create a list of the lengths of the strings in colors\n",
    "# Store the resulting list in variable color_lengths\n",
    "color_lengths = list(len(x) for x in colors)\n",
    "\n",
    "# Assert that the first value in color_lengths is 4 (the length of 'blue')\n",
    "assert color_lengths[0] == 4"
   ]
  },
  {
   "cell_type": "markdown",
   "metadata": {},
   "source": [
    "## 5. Functions and Control Flow"
   ]
  },
  {
   "cell_type": "code",
   "execution_count": 5,
   "metadata": {},
   "outputs": [],
   "source": [
    "# Define a function called append_x\n",
    "# It should take in a string\n",
    "#    and return that string with '_x' appended to the end of it.\n",
    "# For example: 'blue' should become 'blue_x'\n",
    "# You don't need to use Type Annotations, but feel free to\n",
    "def append_x(str):\n",
    "    return(f'{str}_x')\n",
    "\n",
    "\n",
    "assert append_x('test') == 'test_x'"
   ]
  },
  {
   "cell_type": "markdown",
   "metadata": {},
   "source": [
    "## 6. Sorting"
   ]
  },
  {
   "cell_type": "code",
   "execution_count": 6,
   "metadata": {},
   "outputs": [],
   "source": [
    "# Using sorted(), sort the list color_lengths created above, ascending in value (reverse=False)\n",
    "# Save as color_lengths_sorted\n",
    "color_lengths_sorted = sorted(color_lengths, reverse=False)\n",
    "\n",
    "# Assert that the first element of color_lengths_sorted is 3\n",
    "assert color_lengths_sorted[0] == 3"
   ]
  },
  {
   "cell_type": "code",
   "execution_count": 7,
   "metadata": {},
   "outputs": [],
   "source": [
    "# Bonus:\n",
    "# Create a list of the key,value pairs in the str_to_int dictionary sorted by value, decending\n",
    "str_to_int_sorted = sorted(str_to_int.items(), key=lambda x: x[1], reverse=True)\n",
    "str_to_int_sorted\n",
    "# Use this assert to check your work but removing the comment\n",
    "assert str_to_int_sorted[0] == ('two',2)"
   ]
  },
  {
   "cell_type": "code",
   "execution_count": null,
   "metadata": {},
   "outputs": [],
   "source": []
  }
 ],
 "metadata": {
  "kernelspec": {
   "display_name": "eods-20",
   "language": "python",
   "name": "eods-20"
  },
  "language_info": {
   "codemirror_mode": {
    "name": "ipython",
    "version": 3
   },
   "file_extension": ".py",
   "mimetype": "text/x-python",
   "name": "python",
   "nbconvert_exporter": "python",
   "pygments_lexer": "ipython3",
   "version": "3.7.6"
  }
 },
 "nbformat": 4,
 "nbformat_minor": 2
}
